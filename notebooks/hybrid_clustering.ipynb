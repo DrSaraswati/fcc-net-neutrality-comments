{
 "metadata": {
  "name": "",
  "signature": "sha256:145dbfc284980acea9c8d59cf8a4ea2903c75efa4aa84e479a0c9ecac9b35797"
 },
 "nbformat": 3,
 "nbformat_minor": 0,
 "worksheets": [
  {
   "cells": [
    {
     "cell_type": "code",
     "collapsed": false,
     "input": [
      "%matplotlib\n",
      "%pylab inline"
     ],
     "language": "python",
     "metadata": {},
     "outputs": [
      {
       "output_type": "stream",
       "stream": "stdout",
       "text": [
        "Using matplotlib backend: agg\n",
        "Populating the interactive namespace from numpy and matplotlib\n"
       ]
      }
     ],
     "prompt_number": 4
    },
    {
     "cell_type": "code",
     "collapsed": false,
     "input": [
      "import sys\n",
      "import os\n",
      "import json\n",
      "import csv\n",
      "\n",
      "from glob import glob\n",
      "\n",
      "sys.path.append(os.path.join(os.getcwd(), os.path.pardir))"
     ],
     "language": "python",
     "metadata": {},
     "outputs": [],
     "prompt_number": 86
    },
    {
     "cell_type": "code",
     "collapsed": false,
     "input": [
      "from time import time\n",
      "\n",
      "import logging\n",
      "logging.basicConfig(format='%(asctime)s : %(levelname)s : %(message)s',\n",
      "                    level=logging.INFO)\n",
      "\n",
      "logger = logging.getLogger('debug_log')"
     ],
     "language": "python",
     "metadata": {},
     "outputs": [],
     "prompt_number": 23
    },
    {
     "cell_type": "code",
     "collapsed": false,
     "input": [
      "import settings"
     ],
     "language": "python",
     "metadata": {},
     "outputs": [],
     "prompt_number": 7
    },
    {
     "cell_type": "code",
     "collapsed": false,
     "input": [
      "from gensim import corpora, matutils\n",
      "from gensim.corpora import dictionary\n",
      "from gensim.models import ldamodel, lsimodel\n",
      "from gensim.similarities import MatrixSimilarity"
     ],
     "language": "python",
     "metadata": {},
     "outputs": [],
     "prompt_number": 76
    },
    {
     "cell_type": "code",
     "collapsed": false,
     "input": [
      "from sklearn.cluster import MiniBatchKMeans"
     ],
     "language": "python",
     "metadata": {},
     "outputs": [],
     "prompt_number": 104
    },
    {
     "cell_type": "code",
     "collapsed": false,
     "input": [
      "import numpy as np                                                                                           \n",
      "import pandas as pd "
     ],
     "language": "python",
     "metadata": {},
     "outputs": [],
     "prompt_number": 9
    },
    {
     "cell_type": "code",
     "collapsed": false,
     "input": [
      "to_gb = lambda x: (((x * (x-1) / 2) * 32) / 8) * 1.0e-9"
     ],
     "language": "python",
     "metadata": {},
     "outputs": [],
     "prompt_number": 10
    },
    {
     "cell_type": "code",
     "collapsed": false,
     "input": [
      "cluster_labels = np.load(os.path.join(settings.PERSIST_DIR,'cluster_labels_0-10.npy'))"
     ],
     "language": "python",
     "metadata": {},
     "outputs": [],
     "prompt_number": 83
    },
    {
     "cell_type": "code",
     "collapsed": false,
     "input": [
      "cluster_labels = pd.Series(cluster_labels)[:1500]"
     ],
     "language": "python",
     "metadata": {},
     "outputs": [],
     "prompt_number": 84
    },
    {
     "cell_type": "code",
     "collapsed": false,
     "input": [
      "cluster_labels.size"
     ],
     "language": "python",
     "metadata": {},
     "outputs": [
      {
       "metadata": {},
       "output_type": "pyout",
       "prompt_number": 85,
       "text": [
        "1500"
       ]
      }
     ],
     "prompt_number": 85
    },
    {
     "cell_type": "code",
     "collapsed": false,
     "input": [
      "fnames = glob(os.path.join(settings.PROC_DIR,'*.json'))[:1500]\n",
      "doc_ids = pd.Series(map(lambda x: os.path.basename(x).split('.')[0], fnames), dtype=object)"
     ],
     "language": "python",
     "metadata": {},
     "outputs": [],
     "prompt_number": 87
    },
    {
     "cell_type": "code",
     "collapsed": false,
     "input": [
      "doc_ids"
     ],
     "language": "python",
     "metadata": {},
     "outputs": [
      {
       "metadata": {},
       "output_type": "pyout",
       "prompt_number": 88,
       "text": [
        "0     6018141513\n",
        "1     6018116257\n",
        "2     6018111982\n",
        "3     6018100557\n",
        "4     6018102415\n",
        "5     6018130220\n",
        "6     6018103614\n",
        "7     6018128866\n",
        "8     6018140393\n",
        "9     6018100991\n",
        "10    6018122032\n",
        "11    6018128707\n",
        "12    6018107798\n",
        "13    6018141037\n",
        "14    6018111635\n",
        "...\n",
        "1485    6018100902\n",
        "1486    6018110823\n",
        "1487    6018097179\n",
        "1488    6018109224\n",
        "1489    6018127071\n",
        "1490    6018105455\n",
        "1491    6018101788\n",
        "1492    6018104073\n",
        "1493    6018098024\n",
        "1494    6018127001\n",
        "1495    6018125506\n",
        "1496    6018102158\n",
        "1497    6018098923\n",
        "1498    6018108422\n",
        "1499    6018099697\n",
        "Length: 1500, dtype: object"
       ]
      }
     ],
     "prompt_number": 88
    },
    {
     "cell_type": "code",
     "collapsed": false,
     "input": [
      "unclustered_gensim_id = pd.Series(xrange(800954))[:1500]"
     ],
     "language": "python",
     "metadata": {},
     "outputs": [],
     "prompt_number": 89
    },
    {
     "cell_type": "code",
     "collapsed": false,
     "input": [
      "bookie = pd.DataFrame({'original_id': unclustered_gensim_id,\n",
      "                       'doc_id': doc_ids, 'cluster_r1': cluster_labels})\n",
      "bookie = bookie[['original_id', 'doc_id', 'cluster_r1']]"
     ],
     "language": "python",
     "metadata": {},
     "outputs": [],
     "prompt_number": 90
    },
    {
     "cell_type": "code",
     "collapsed": false,
     "input": [
      "bookie.info()"
     ],
     "language": "python",
     "metadata": {},
     "outputs": [
      {
       "output_type": "stream",
       "stream": "stdout",
       "text": [
        "<class 'pandas.core.frame.DataFrame'>\n",
        "Int64Index: 1500 entries, 0 to 1499\n",
        "Data columns (total 3 columns):\n",
        "original_id    1500 non-null int64\n",
        "doc_id         1500 non-null object\n",
        "cluster_r1     1500 non-null int32\n",
        "dtypes: int32(1), int64(1), object(1)"
       ]
      }
     ],
     "prompt_number": 91
    },
    {
     "cell_type": "code",
     "collapsed": false,
     "input": [
      "bookie.head()"
     ],
     "language": "python",
     "metadata": {},
     "outputs": [
      {
       "html": [
        "<div style=\"max-height:1000px;max-width:1500px;overflow:auto;\">\n",
        "<table border=\"1\" class=\"dataframe\">\n",
        "  <thead>\n",
        "    <tr style=\"text-align: right;\">\n",
        "      <th></th>\n",
        "      <th>original_id</th>\n",
        "      <th>doc_id</th>\n",
        "      <th>cluster_r1</th>\n",
        "    </tr>\n",
        "  </thead>\n",
        "  <tbody>\n",
        "    <tr>\n",
        "      <th>0</th>\n",
        "      <td> 0</td>\n",
        "      <td> 6018141513</td>\n",
        "      <td> 6</td>\n",
        "    </tr>\n",
        "    <tr>\n",
        "      <th>1</th>\n",
        "      <td> 1</td>\n",
        "      <td> 6018116257</td>\n",
        "      <td> 2</td>\n",
        "    </tr>\n",
        "    <tr>\n",
        "      <th>2</th>\n",
        "      <td> 2</td>\n",
        "      <td> 6018111982</td>\n",
        "      <td> 5</td>\n",
        "    </tr>\n",
        "    <tr>\n",
        "      <th>3</th>\n",
        "      <td> 3</td>\n",
        "      <td> 6018100557</td>\n",
        "      <td> 1</td>\n",
        "    </tr>\n",
        "    <tr>\n",
        "      <th>4</th>\n",
        "      <td> 4</td>\n",
        "      <td> 6018102415</td>\n",
        "      <td> 1</td>\n",
        "    </tr>\n",
        "  </tbody>\n",
        "</table>\n",
        "</div>"
       ],
       "metadata": {},
       "output_type": "pyout",
       "prompt_number": 92,
       "text": [
        "   original_id      doc_id  cluster_r1\n",
        "0            0  6018141513           6\n",
        "1            1  6018116257           2\n",
        "2            2  6018111982           5\n",
        "3            3  6018100557           1\n",
        "4            4  6018102415           1"
       ]
      }
     ],
     "prompt_number": 92
    },
    {
     "cell_type": "code",
     "collapsed": true,
     "input": [
      "bookie.cluster_r1.value_counts()"
     ],
     "language": "python",
     "metadata": {},
     "outputs": [
      {
       "metadata": {},
       "output_type": "pyout",
       "prompt_number": 93,
       "text": [
        "9    504\n",
        "1    213\n",
        "7    209\n",
        "2    106\n",
        "8     95\n",
        "5     85\n",
        "4     84\n",
        "0     84\n",
        "3     61\n",
        "6     59\n",
        "dtype: int64"
       ]
      }
     ],
     "prompt_number": 93
    },
    {
     "cell_type": "code",
     "collapsed": false,
     "input": [
      "matrix_rows = bookie[bookie.cluster_r1 == 9]['original_id']"
     ],
     "language": "python",
     "metadata": {},
     "outputs": [],
     "prompt_number": 94
    },
    {
     "cell_type": "code",
     "collapsed": false,
     "input": [
      "matrix_rows"
     ],
     "language": "python",
     "metadata": {},
     "outputs": [
      {
       "metadata": {},
       "output_type": "pyout",
       "prompt_number": 99,
       "text": [
        "5      5\n",
        "6      6\n",
        "12    12\n",
        "13    13\n",
        "15    15\n",
        "16    16\n",
        "17    17\n",
        "22    22\n",
        "24    24\n",
        "25    25\n",
        "26    26\n",
        "29    29\n",
        "30    30\n",
        "33    33\n",
        "37    37\n",
        "...\n",
        "1459    1459\n",
        "1463    1463\n",
        "1464    1464\n",
        "1465    1465\n",
        "1466    1466\n",
        "1469    1469\n",
        "1475    1475\n",
        "1479    1479\n",
        "1481    1481\n",
        "1482    1482\n",
        "1491    1491\n",
        "1492    1492\n",
        "1493    1493\n",
        "1494    1494\n",
        "1496    1496\n",
        "Name: original_id, Length: 504, dtype: int64"
       ]
      }
     ],
     "prompt_number": 99
    },
    {
     "cell_type": "code",
     "collapsed": false,
     "input": [
      "sim_matrix = MatrixSimilarity.load(os.path.join(settings.PERSIST_DIR, 'tfidf_corpus_lsi-200_matrix_similarity'))"
     ],
     "language": "python",
     "metadata": {},
     "outputs": [],
     "prompt_number": 95
    },
    {
     "cell_type": "code",
     "collapsed": false,
     "input": [
      "doc_topic = sim_matrix.index"
     ],
     "language": "python",
     "metadata": {},
     "outputs": [],
     "prompt_number": 98
    },
    {
     "cell_type": "code",
     "collapsed": false,
     "input": [
      "new_group =doc_topic[matrix_rows]"
     ],
     "language": "python",
     "metadata": {},
     "outputs": [],
     "prompt_number": 101
    },
    {
     "cell_type": "code",
     "collapsed": false,
     "input": [
      "new_group.shape"
     ],
     "language": "python",
     "metadata": {},
     "outputs": [
      {
       "metadata": {},
       "output_type": "pyout",
       "prompt_number": 103,
       "text": [
        "(504, 200)"
       ]
      }
     ],
     "prompt_number": 103
    },
    {
     "cell_type": "code",
     "collapsed": false,
     "input": [
      "bookie['cluster_r2'] = pd.Series((-1 for i in xrange(bookie.cluster_r1.shape[0])))"
     ],
     "language": "python",
     "metadata": {},
     "outputs": [],
     "prompt_number": 128
    },
    {
     "cell_type": "code",
     "collapsed": false,
     "input": [
      "bookie.info()"
     ],
     "language": "python",
     "metadata": {},
     "outputs": [
      {
       "output_type": "stream",
       "stream": "stdout",
       "text": [
        "<class 'pandas.core.frame.DataFrame'>\n",
        "Int64Index: 1500 entries, 0 to 1499\n",
        "Data columns (total 4 columns):\n",
        "original_id    1500 non-null int64\n",
        "doc_id         1500 non-null object\n",
        "cluster_r1     1500 non-null int32\n",
        "cluster_r2     1500 non-null int64\n",
        "dtypes: int32(1), int64(2), object(1)"
       ]
      }
     ],
     "prompt_number": 129
    },
    {
     "cell_type": "code",
     "collapsed": false,
     "input": [
      "bookie.describe()"
     ],
     "language": "python",
     "metadata": {},
     "outputs": [
      {
       "html": [
        "<div style=\"max-height:1000px;max-width:1500px;overflow:auto;\">\n",
        "<table border=\"1\" class=\"dataframe\">\n",
        "  <thead>\n",
        "    <tr style=\"text-align: right;\">\n",
        "      <th></th>\n",
        "      <th>original_id</th>\n",
        "      <th>cluster_r1</th>\n",
        "      <th>cluster_r2</th>\n",
        "    </tr>\n",
        "  </thead>\n",
        "  <tbody>\n",
        "    <tr>\n",
        "      <th>count</th>\n",
        "      <td> 1500.000000</td>\n",
        "      <td> 1500.000000</td>\n",
        "      <td> 1500</td>\n",
        "    </tr>\n",
        "    <tr>\n",
        "      <th>mean</th>\n",
        "      <td>  749.500000</td>\n",
        "      <td>    5.654667</td>\n",
        "      <td>   -1</td>\n",
        "    </tr>\n",
        "    <tr>\n",
        "      <th>std</th>\n",
        "      <td>  433.157015</td>\n",
        "      <td>    3.263103</td>\n",
        "      <td>    0</td>\n",
        "    </tr>\n",
        "    <tr>\n",
        "      <th>min</th>\n",
        "      <td>    0.000000</td>\n",
        "      <td>    0.000000</td>\n",
        "      <td>   -1</td>\n",
        "    </tr>\n",
        "    <tr>\n",
        "      <th>25%</th>\n",
        "      <td>  374.750000</td>\n",
        "      <td>    2.000000</td>\n",
        "      <td>   -1</td>\n",
        "    </tr>\n",
        "    <tr>\n",
        "      <th>50%</th>\n",
        "      <td>  749.500000</td>\n",
        "      <td>    7.000000</td>\n",
        "      <td>   -1</td>\n",
        "    </tr>\n",
        "    <tr>\n",
        "      <th>75%</th>\n",
        "      <td> 1124.250000</td>\n",
        "      <td>    9.000000</td>\n",
        "      <td>   -1</td>\n",
        "    </tr>\n",
        "    <tr>\n",
        "      <th>max</th>\n",
        "      <td> 1499.000000</td>\n",
        "      <td>    9.000000</td>\n",
        "      <td>   -1</td>\n",
        "    </tr>\n",
        "  </tbody>\n",
        "</table>\n",
        "</div>"
       ],
       "metadata": {},
       "output_type": "pyout",
       "prompt_number": 130,
       "text": [
        "       original_id   cluster_r1  cluster_r2\n",
        "count  1500.000000  1500.000000        1500\n",
        "mean    749.500000     5.654667          -1\n",
        "std     433.157015     3.263103           0\n",
        "min       0.000000     0.000000          -1\n",
        "25%     374.750000     2.000000          -1\n",
        "50%     749.500000     7.000000          -1\n",
        "75%    1124.250000     9.000000          -1\n",
        "max    1499.000000     9.000000          -1"
       ]
      }
     ],
     "prompt_number": 130
    },
    {
     "cell_type": "code",
     "collapsed": false,
     "input": [
      "for cluster_num, group in bookie.groupby('cluster_r1'):\n",
      "    mbk = MiniBatchKMeans(init='k-means++', n_clusters=5, n_init=1,\n",
      "                          init_size=1000, batch_size=1000)\n",
      "    mbk.fit(doc_topic[group['original_id']])\n",
      "    bookie.loc[bookie.cluster_r1 == cluster_num,'cluster_r2'] = mbk.labels_\n",
      "    np.save(os.path.join(settings.PERSIST_DIR, 'cluster_labels_0_%d-5'%cluster_num),\n",
      "            mbk.labels_)\n",
      "    np.save(os.path.join(settings.PERSIST_DIR, 'cluster_centers_0_%d-5'%cluster_num),\n",
      "            mbk.cluster_centers_)"
     ],
     "language": "python",
     "metadata": {},
     "outputs": [],
     "prompt_number": 131
    },
    {
     "cell_type": "code",
     "collapsed": false,
     "input": [
      "cluster_num"
     ],
     "language": "python",
     "metadata": {},
     "outputs": [
      {
       "metadata": {},
       "output_type": "pyout",
       "prompt_number": 132,
       "text": [
        "9"
       ]
      }
     ],
     "prompt_number": 132
    },
    {
     "cell_type": "code",
     "collapsed": false,
     "input": [
      "mbk.labels_"
     ],
     "language": "python",
     "metadata": {},
     "outputs": [
      {
       "metadata": {},
       "output_type": "pyout",
       "prompt_number": 133,
       "text": [
        "array([3, 3, 3, 4, 1, 3, 0, 0, 3, 1, 1, 3, 1, 4, 3, 4, 3, 1, 3, 1, 3, 4, 3,\n",
        "       1, 0, 0, 1, 2, 0, 1, 0, 0, 2, 4, 1, 1, 0, 1, 0, 4, 0, 3, 0, 1, 0, 1,\n",
        "       4, 1, 3, 1, 0, 3, 1, 4, 3, 3, 1, 3, 0, 2, 0, 3, 0, 1, 3, 0, 3, 3, 4,\n",
        "       0, 3, 4, 0, 1, 3, 0, 4, 3, 3, 1, 3, 4, 3, 3, 0, 3, 3, 1, 3, 0, 0, 2,\n",
        "       1, 0, 4, 0, 0, 3, 0, 1, 0, 4, 3, 0, 1, 0, 3, 0, 4, 1, 4, 3, 3, 3, 0,\n",
        "       0, 1, 0, 3, 1, 4, 4, 1, 2, 3, 4, 3, 3, 0, 2, 3, 3, 1, 3, 0, 1, 3, 3,\n",
        "       1, 3, 2, 1, 4, 1, 3, 3, 1, 0, 4, 3, 0, 2, 0, 1, 4, 3, 3, 4, 3, 3, 3,\n",
        "       3, 4, 3, 3, 1, 1, 1, 0, 3, 3, 2, 3, 0, 3, 0, 3, 4, 0, 1, 0, 3, 3, 4,\n",
        "       4, 3, 0, 3, 4, 3, 0, 0, 0, 3, 0, 0, 4, 0, 0, 1, 1, 2, 0, 4, 0, 0, 4,\n",
        "       3, 2, 2, 0, 4, 3, 3, 3, 3, 3, 4, 3, 4, 1, 1, 4, 2, 1, 1, 1, 0, 0, 1,\n",
        "       3, 0, 3, 4, 4, 0, 1, 2, 1, 3, 2, 3, 0, 3, 4, 3, 1, 3, 1, 1, 3, 0, 2,\n",
        "       0, 4, 2, 4, 1, 3, 1, 4, 4, 4, 4, 0, 1, 3, 3, 2, 3, 3, 4, 3, 0, 4, 0,\n",
        "       0, 4, 1, 4, 4, 1, 3, 3, 0, 0, 0, 0, 3, 1, 0, 3, 1, 3, 0, 0, 1, 3, 3,\n",
        "       0, 1, 0, 3, 1, 1, 4, 3, 1, 0, 4, 1, 3, 0, 0, 3, 1, 0, 0, 0, 0, 0, 3,\n",
        "       3, 3, 2, 3, 0, 4, 0, 0, 3, 3, 4, 4, 3, 0, 3, 1, 3, 0, 3, 2, 0, 0, 0,\n",
        "       0, 3, 0, 0, 4, 1, 2, 2, 0, 0, 0, 1, 3, 0, 4, 4, 0, 1, 1, 3, 3, 3, 0,\n",
        "       3, 4, 3, 3, 1, 3, 1, 4, 3, 0, 0, 3, 4, 0, 0, 4, 3, 0, 1, 1, 4, 3, 3,\n",
        "       1, 0, 4, 3, 0, 4, 1, 3, 0, 0, 3, 2, 0, 3, 0, 1, 2, 1, 1, 0, 1, 3, 1,\n",
        "       0, 1, 1, 3, 0, 3, 3, 1, 0, 1, 4, 3, 0, 4, 0, 1, 3, 0, 2, 0, 0, 3, 0,\n",
        "       0, 3, 4, 3, 0, 0, 1, 3, 3, 3, 3, 4, 3, 3, 3, 3, 3, 0, 2, 0, 1, 3, 0,\n",
        "       3, 4, 4, 0, 3, 0, 1, 3, 1, 0, 3, 3, 3, 0, 3, 4, 1, 0, 3, 1, 4, 2, 4,\n",
        "       4, 4, 2, 0, 1, 4, 4, 0, 2, 3, 1, 1, 3, 3, 3, 2, 1, 4, 2, 0, 3], dtype=int32)"
       ]
      }
     ],
     "prompt_number": 133
    },
    {
     "cell_type": "code",
     "collapsed": false,
     "input": [
      "bookie[bookie.cluster_r1==9]['cluster_r2']"
     ],
     "language": "python",
     "metadata": {},
     "outputs": [
      {
       "metadata": {},
       "output_type": "pyout",
       "prompt_number": 134,
       "text": [
        "5     3\n",
        "6     3\n",
        "12    3\n",
        "13    4\n",
        "15    1\n",
        "16    3\n",
        "17    0\n",
        "22    0\n",
        "24    3\n",
        "25    1\n",
        "26    1\n",
        "29    3\n",
        "30    1\n",
        "33    4\n",
        "37    3\n",
        "...\n",
        "1459    4\n",
        "1463    0\n",
        "1464    2\n",
        "1465    3\n",
        "1466    1\n",
        "1469    1\n",
        "1475    3\n",
        "1479    3\n",
        "1481    3\n",
        "1482    2\n",
        "1491    1\n",
        "1492    4\n",
        "1493    2\n",
        "1494    0\n",
        "1496    3\n",
        "Name: cluster_r2, Length: 504, dtype: int64"
       ]
      }
     ],
     "prompt_number": 134
    },
    {
     "cell_type": "code",
     "collapsed": false,
     "input": [],
     "language": "python",
     "metadata": {},
     "outputs": []
    },
    {
     "cell_type": "code",
     "collapsed": false,
     "input": [
      "bookie['cluster_r2'].describe()"
     ],
     "language": "python",
     "metadata": {},
     "outputs": [
      {
       "metadata": {},
       "output_type": "pyout",
       "prompt_number": 135,
       "text": [
        "count    1500.000000\n",
        "mean        1.686000\n",
        "std         1.473154\n",
        "min         0.000000\n",
        "25%         0.000000\n",
        "50%         1.000000\n",
        "75%         3.000000\n",
        "max         4.000000\n",
        "dtype: float64"
       ]
      }
     ],
     "prompt_number": 135
    },
    {
     "cell_type": "code",
     "collapsed": false,
     "input": [
      "bookie.pivot_table(index='cluster_r1', columns='cluster_r2', values='original_id', aggfunc=np.size)"
     ],
     "language": "python",
     "metadata": {},
     "outputs": [
      {
       "html": [
        "<div style=\"max-height:1000px;max-width:1500px;overflow:auto;\">\n",
        "<table border=\"1\" class=\"dataframe\">\n",
        "  <thead>\n",
        "    <tr style=\"text-align: right;\">\n",
        "      <th>cluster_r2</th>\n",
        "      <th>0</th>\n",
        "      <th>1</th>\n",
        "      <th>2</th>\n",
        "      <th>3</th>\n",
        "      <th>4</th>\n",
        "    </tr>\n",
        "    <tr>\n",
        "      <th>cluster_r1</th>\n",
        "      <th></th>\n",
        "      <th></th>\n",
        "      <th></th>\n",
        "      <th></th>\n",
        "      <th></th>\n",
        "    </tr>\n",
        "  </thead>\n",
        "  <tbody>\n",
        "    <tr>\n",
        "      <th>0</th>\n",
        "      <td>  25</td>\n",
        "      <td> 15</td>\n",
        "      <td> 14</td>\n",
        "      <td>  15</td>\n",
        "      <td> 15</td>\n",
        "    </tr>\n",
        "    <tr>\n",
        "      <th>1</th>\n",
        "      <td>  17</td>\n",
        "      <td> 32</td>\n",
        "      <td> 12</td>\n",
        "      <td> 138</td>\n",
        "      <td> 14</td>\n",
        "    </tr>\n",
        "    <tr>\n",
        "      <th>2</th>\n",
        "      <td>  39</td>\n",
        "      <td> 44</td>\n",
        "      <td>  8</td>\n",
        "      <td>  14</td>\n",
        "      <td>  1</td>\n",
        "    </tr>\n",
        "    <tr>\n",
        "      <th>3</th>\n",
        "      <td>   1</td>\n",
        "      <td> 19</td>\n",
        "      <td> 11</td>\n",
        "      <td>   7</td>\n",
        "      <td> 23</td>\n",
        "    </tr>\n",
        "    <tr>\n",
        "      <th>4</th>\n",
        "      <td>  15</td>\n",
        "      <td>  3</td>\n",
        "      <td> 23</td>\n",
        "      <td>   1</td>\n",
        "      <td> 42</td>\n",
        "    </tr>\n",
        "    <tr>\n",
        "      <th>5</th>\n",
        "      <td>   2</td>\n",
        "      <td> 29</td>\n",
        "      <td> 21</td>\n",
        "      <td>  11</td>\n",
        "      <td> 22</td>\n",
        "    </tr>\n",
        "    <tr>\n",
        "      <th>6</th>\n",
        "      <td>  29</td>\n",
        "      <td>  2</td>\n",
        "      <td> 10</td>\n",
        "      <td>  16</td>\n",
        "      <td>  2</td>\n",
        "    </tr>\n",
        "    <tr>\n",
        "      <th>7</th>\n",
        "      <td> 205</td>\n",
        "      <td>  1</td>\n",
        "      <td>  1</td>\n",
        "      <td>   1</td>\n",
        "      <td>  1</td>\n",
        "    </tr>\n",
        "    <tr>\n",
        "      <th>8</th>\n",
        "      <td>  22</td>\n",
        "      <td> 21</td>\n",
        "      <td> 38</td>\n",
        "      <td>  13</td>\n",
        "      <td>  1</td>\n",
        "    </tr>\n",
        "    <tr>\n",
        "      <th>9</th>\n",
        "      <td> 136</td>\n",
        "      <td> 98</td>\n",
        "      <td> 31</td>\n",
        "      <td> 161</td>\n",
        "      <td> 78</td>\n",
        "    </tr>\n",
        "  </tbody>\n",
        "</table>\n",
        "</div>"
       ],
       "metadata": {},
       "output_type": "pyout",
       "prompt_number": 137,
       "text": [
        "cluster_r2    0   1   2    3   4\n",
        "cluster_r1                      \n",
        "0            25  15  14   15  15\n",
        "1            17  32  12  138  14\n",
        "2            39  44   8   14   1\n",
        "3             1  19  11    7  23\n",
        "4            15   3  23    1  42\n",
        "5             2  29  21   11  22\n",
        "6            29   2  10   16   2\n",
        "7           205   1   1    1   1\n",
        "8            22  21  38   13   1\n",
        "9           136  98  31  161  78"
       ]
      }
     ],
     "prompt_number": 137
    },
    {
     "cell_type": "code",
     "collapsed": false,
     "input": [],
     "language": "python",
     "metadata": {},
     "outputs": []
    }
   ],
   "metadata": {}
  }
 ]
}